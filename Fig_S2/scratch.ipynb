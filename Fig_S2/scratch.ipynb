{
 "cells": [
  {
   "cell_type": "code",
   "execution_count": 1,
   "metadata": {
    "collapsed": true
   },
   "outputs": [],
   "source": [
    "import pandas as pd"
   ]
  },
  {
   "cell_type": "code",
   "execution_count": 9,
   "metadata": {
    "collapsed": false
   },
   "outputs": [
    {
     "name": "stdout",
     "output_type": "stream",
     "text": [
      "Tokenization took: 12.94 ms\n",
      "Type conversion took: 31.79 ms\n",
      "Parser memory cleanup took: 0.03 ms\n"
     ]
    }
   ],
   "source": [
    "stochIn = pd.read_csv('drosophila_99_uu/treecmp_rc_stochastic.txt', sep='\\t', index_col=None, skiprows=0, verbose=True)"
   ]
  },
  {
   "cell_type": "code",
   "execution_count": 10,
   "metadata": {
    "collapsed": false
   },
   "outputs": [],
   "source": [
    "#print stochIn"
   ]
  },
  {
   "cell_type": "code",
   "execution_count": 11,
   "metadata": {
    "collapsed": false
   },
   "outputs": [
    {
     "data": {
      "text/plain": [
       "1"
      ]
     },
     "execution_count": 11,
     "metadata": {},
     "output_type": "execute_result"
    }
   ],
   "source": [
    "stochIn['Tree'][0]"
   ]
  },
  {
   "cell_type": "code",
   "execution_count": 12,
   "metadata": {
    "collapsed": false
   },
   "outputs": [
    {
     "name": "stdout",
     "output_type": "stream",
     "text": [
      "Tokenization took: 0.00 ms\n",
      "Type conversion took: 0.06 ms\n",
      "Parser memory cleanup took: 0.00 ms\n"
     ]
    }
   ],
   "source": [
    "mbIn = pd.read_csv('drosophila/treecmp_ms_norm.txt', sep='\\t', index_col=None, skiprows=0, verbose=True)"
   ]
  },
  {
   "cell_type": "code",
   "execution_count": 13,
   "metadata": {
    "collapsed": false
   },
   "outputs": [
    {
     "name": "stdout",
     "output_type": "stream",
     "text": [
      "   Tree  MatchingSplit  MatchingSplit_toYuleAvg  MatchingSplit_toUnifAvg\n",
      "0     1              4                    0.796                   0.7814\n"
     ]
    }
   ],
   "source": [
    "print mbIn"
   ]
  },
  {
   "cell_type": "code",
   "execution_count": 15,
   "metadata": {
    "collapsed": false
   },
   "outputs": [
    {
     "data": {
      "text/plain": [
       "1"
      ]
     },
     "execution_count": 15,
     "metadata": {},
     "output_type": "execute_result"
    }
   ],
   "source": [
    "mbIn['Tree'][0]"
   ]
  },
  {
   "cell_type": "code",
   "execution_count": null,
   "metadata": {
    "collapsed": true
   },
   "outputs": [],
   "source": [
    "\n",
    "    print \n",
    "    print \"Host-Microbe Score:   \" + str(hostMicrobeScore)\n",
    "    print\n",
    "    print \"Better Score:         \" + str(len(pdInputs[0][pdInputs[0][metricIn] < hostMicrobeScore]))\n",
    "    print \"Worse Score:          \" + str(len(pdInputs[0][pdInputs[0][metricIn] > hostMicrobeScore]))\n",
    "    print \"Equiv Score:          \" + str(len(pdInputs[0][pdInputs[0][metricIn] == hostMicrobeScore]))\n",
    "    print \"P-value better:       \" + str(float(len(pdInputs[0][pdInputs[0][metricIn] < hostMicrobeScore]))/100000.0)\n",
    "    print \n",
    "    print \"Better\\Equal Score:   \" + str(len(pdInputs[0][pdInputs[0][metricIn] <= hostMicrobeScore]))\n",
    "    print \"Worse Score:          \" + str(len(pdInputs[0][pdInputs[0][metricIn] > hostMicrobeScore]))\n",
    "    print \"P-value Better/Equal: \" + str(float(len(pdInputs[0][pdInputs[0][metricIn] <= hostMicrobeScore]))/100000.0)\n",
    "    print \n",
    "    print \"Max Stochastic Metric:\" + str(max())\n",
    "            pdInputs[0][metricIn]\n",
    "    \n",
    "    #############################"
   ]
  }
 ],
 "metadata": {
  "kernelspec": {
   "display_name": "Python 2",
   "language": "python",
   "name": "python2"
  },
  "language_info": {
   "codemirror_mode": {
    "name": "ipython",
    "version": 2
   },
   "file_extension": ".py",
   "mimetype": "text/x-python",
   "name": "python",
   "nbconvert_exporter": "python",
   "pygments_lexer": "ipython2",
   "version": "2.7.10"
  }
 },
 "nbformat": 4,
 "nbformat_minor": 0
}
